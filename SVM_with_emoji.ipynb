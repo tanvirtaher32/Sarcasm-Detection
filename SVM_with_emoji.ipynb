{
  "nbformat": 4,
  "nbformat_minor": 0,
  "metadata": {
    "colab": {
      "provenance": [],
      "include_colab_link": true
    },
    "kernelspec": {
      "name": "python3",
      "display_name": "Python 3"
    },
    "language_info": {
      "name": "python"
    },
    "accelerator": "TPU"
  },
  "cells": [
    {
      "cell_type": "markdown",
      "metadata": {
        "id": "view-in-github",
        "colab_type": "text"
      },
      "source": [
        "<a href=\"https://colab.research.google.com/github/tanvirtaher32/Sarcasm-Detection/blob/main/SVM_with_emoji.ipynb\" target=\"_parent\"><img src=\"https://colab.research.google.com/assets/colab-badge.svg\" alt=\"Open In Colab\"/></a>"
      ]
    },
    {
      "cell_type": "code",
      "source": [
        "pip install emoji"
      ],
      "metadata": {
        "colab": {
          "base_uri": "https://localhost:8080/"
        },
        "id": "N628fQiSrOK2",
        "outputId": "06553386-e4bc-43de-d310-12a9a2fd066e"
      },
      "execution_count": null,
      "outputs": [
        {
          "output_type": "stream",
          "name": "stdout",
          "text": [
            "Collecting emoji\n",
            "  Downloading emoji-2.6.0.tar.gz (356 kB)\n",
            "\u001b[?25l     \u001b[90m━━━━━━━━━━━━━━━━━━━━━━━━━━━━━━━━━━━━━━━━\u001b[0m \u001b[32m0.0/356.6 kB\u001b[0m \u001b[31m?\u001b[0m eta \u001b[36m-:--:--\u001b[0m\r\u001b[2K     \u001b[91m━━━━━━━━━━━━━━━━━━━━━━━━\u001b[0m\u001b[91m╸\u001b[0m\u001b[90m━━━━━━━━━━━━━━\u001b[0m \u001b[32m225.3/356.6 kB\u001b[0m \u001b[31m7.7 MB/s\u001b[0m eta \u001b[36m0:00:01\u001b[0m\r\u001b[2K     \u001b[90m━━━━━━━━━━━━━━━━━━━━━━━━━━━━━━━━━━━━━━━\u001b[0m \u001b[32m356.6/356.6 kB\u001b[0m \u001b[31m7.5 MB/s\u001b[0m eta \u001b[36m0:00:00\u001b[0m\n",
            "\u001b[?25h  Preparing metadata (setup.py) ... \u001b[?25l\u001b[?25hdone\n",
            "Building wheels for collected packages: emoji\n",
            "  Building wheel for emoji (setup.py) ... \u001b[?25l\u001b[?25hdone\n",
            "  Created wheel for emoji: filename=emoji-2.6.0-py2.py3-none-any.whl size=351311 sha256=c4213945f99e922bb79c3043dba5d4d78627caa66ea7ee57366de296448397e1\n",
            "  Stored in directory: /root/.cache/pip/wheels/ea/0b/64/114bc939d0083621aa41521e21be246c888260b8aa21e6c1ad\n",
            "Successfully built emoji\n",
            "Installing collected packages: emoji\n",
            "Successfully installed emoji-2.6.0\n"
          ]
        }
      ]
    },
    {
      "cell_type": "code",
      "source": [
        "import numpy as np\n",
        "import pandas as pd\n",
        "import os\n",
        "import re\n",
        "import emoji\n",
        "from sklearn.feature_extraction.text import TfidfVectorizer\n",
        "from sklearn.svm import SVC\n",
        "from sklearn.metrics import accuracy_score, confusion_matrix, classification_report\n",
        "import nltk\n",
        "from nltk.tokenize import word_tokenize\n",
        "from nltk.corpus import stopwords\n",
        "\n",
        "nltk.download('punkt')\n",
        "nltk.download('stopwords')\n",
        "\n",
        "# Load the dataset\n",
        "data = pd.read_json(\"/content/drive/MyDrive/testdata/Sarcasm_Headlines_Dataset_v3.json\", lines=True)\n",
        "\n",
        "# Clean the text\n",
        "def clean_text(text):\n",
        "    text = text.lower()\n",
        "    text = re.sub(r\"i'm\", \"i am\", text)\n",
        "    text = re.sub(r\"he's\", \"he is\", text)\n",
        "    text = re.sub(r\"she's\", \"she is\", text)\n",
        "    text = re.sub(r\"that's\", \"that is\", text)\n",
        "    text = re.sub(r\"what's\", \"what is\", text)\n",
        "    text = re.sub(r\"where's\", \"where is\", text)\n",
        "    text = re.sub(r\"\\'ll\", \" will\", text)\n",
        "    text = re.sub(r\"\\'ve\", \" have\", text)\n",
        "    text = re.sub(r\"\\'re\", \" are\", text)\n",
        "    text = re.sub(r\"\\'d\", \" would\", text)\n",
        "    text = re.sub(r\"\\'ve\", \" have\", text)\n",
        "    text = re.sub(r\"won't\", \"will not\", text)\n",
        "    text = re.sub(r\"don't\", \"do not\", text)\n",
        "    text = re.sub(r\"did't\", \"did not\", text)\n",
        "    text = re.sub(r\"can't\", \"can not\", text)\n",
        "    text = re.sub(r\"it's\", \"it is\", text)\n",
        "    text = re.sub(r\"couldn't\", \"could not\", text)\n",
        "    text = re.sub(r\"have't\", \"have not\", text)\n",
        "    text = re.sub(r\"[,.\\\"\\'!@#$%^&*(){}?/;`~:<>+=-]\", \"\", text)\n",
        "    return text\n",
        "\n",
        "# Extract emojis from text\n",
        "def extract_emojis(text):\n",
        "    emojis = []\n",
        "    for char in text:\n",
        "        if char in emoji.EMOJI_DATA['🥇']['en']:\n",
        "            emojis.append(char)\n",
        "    return emojis\n",
        "\n",
        "data['clean_text'] = data['headline'].apply(clean_text)\n",
        "data['emojis'] = data['clean_text'].apply(extract_emojis)\n",
        "\n",
        "# Tokenize and remove stopwords\n",
        "stop_words = set(stopwords.words('english'))\n",
        "\n",
        "def tokenize_and_remove_stopwords(text):\n",
        "    tokens = word_tokenize(text)\n",
        "    tokens = [token for token in tokens if token not in stop_words]\n",
        "    return ' '.join(tokens)\n",
        "\n",
        "data['tokenized_text'] = data['clean_text'].apply(tokenize_and_remove_stopwords)\n",
        "\n",
        "# Split the data into train and test sets\n",
        "X_text = data['tokenized_text']\n",
        "X_emojis = data['emojis']\n",
        "y = data['is_sarcastic']\n",
        "\n",
        "train_size = int(len(X_text) * 0.8)\n",
        "X_text_train, X_text_test = X_text[:train_size], X_text[train_size:]\n",
        "X_emojis_train, X_emojis_test = X_emojis[:train_size], X_emojis[train_size:]\n",
        "y_train, y_test = y[:train_size], y[train_size:]\n",
        "\n",
        "# Vectorize the text using TF-IDF\n",
        "vectorizer = TfidfVectorizer()\n",
        "X_text_train_vec = vectorizer.fit_transform(X_text_train)\n",
        "X_text_test_vec = vectorizer.transform(X_text_test)\n",
        "\n",
        "# Encode emojis as one-hot vectors\n",
        "emoji_encoder = np.zeros((len(X_emojis), len(emoji.EMOJI_DATA['🥇']['en'])), dtype=int)\n",
        "for i, emojis in enumerate(X_emojis):\n",
        "    for emoji_char in emojis:\n",
        "        emoji_index = list(emoji.EMOJI_DATA['🥇']['en']).index(emoji_char)\n",
        "        emoji_encoder[i, emoji_index] = 1\n",
        "\n",
        "X_emojis_train_vec = emoji_encoder[:train_size]\n",
        "X_emojis_test_vec = emoji_encoder[train_size:]\n",
        "\n",
        "# Combine text and emoji features\n",
        "X_train = np.hstack((X_text_train_vec.toarray(), X_emojis_train_vec))\n",
        "X_test = np.hstack((X_text_test_vec.toarray(), X_emojis_test_vec))\n",
        "\n",
        "# Train the SVM classifier\n",
        "svm_classifier = SVC(kernel='linear')\n",
        "svm_classifier.fit(X_train, y_train)\n",
        "\n",
        "# Predict on the test set\n",
        "y_pred = svm_classifier.predict(X_test)\n",
        "\n",
        "# Evaluate the model\n",
        "accuracy = accuracy_score(y_test, y_pred)\n",
        "confusion_matrix = confusion_matrix(y_test, y_pred)\n",
        "classification_report = classification_report(y_test, y_pred)\n",
        "\n",
        "print('Accuracy:', accuracy)\n",
        "print('Confusion Matrix:')\n",
        "print(confusion_matrix)\n",
        "print('Classification Report:')\n",
        "print(classification_report)\n"
      ],
      "metadata": {
        "colab": {
          "base_uri": "https://localhost:8080/"
        },
        "id": "K-69_B-Vxo6_",
        "outputId": "ddef8110-6e7b-48bd-a83b-388885c6d2fd"
      },
      "execution_count": null,
      "outputs": [
        {
          "output_type": "stream",
          "name": "stderr",
          "text": [
            "[nltk_data] Downloading package punkt to /root/nltk_data...\n",
            "[nltk_data]   Package punkt is already up-to-date!\n",
            "[nltk_data] Downloading package stopwords to /root/nltk_data...\n",
            "[nltk_data]   Package stopwords is already up-to-date!\n"
          ]
        },
        {
          "output_type": "stream",
          "name": "stdout",
          "text": [
            "Accuracy: 0.7715\n",
            "Confusion Matrix:\n",
            "[[898 212]\n",
            " [245 645]]\n",
            "Classification Report:\n",
            "              precision    recall  f1-score   support\n",
            "\n",
            "           0       0.79      0.81      0.80      1110\n",
            "           1       0.75      0.72      0.74       890\n",
            "\n",
            "    accuracy                           0.77      2000\n",
            "   macro avg       0.77      0.77      0.77      2000\n",
            "weighted avg       0.77      0.77      0.77      2000\n",
            "\n"
          ]
        }
      ]
    },
    {
      "cell_type": "code",
      "source": [
        "# Plot Confusion Matrix\n",
        "def plot_confusion_matrix(cm):\n",
        "    plt.figure(figsize=(8, 6))\n",
        "    sns.heatmap(cm, annot=True, cmap='Blues', fmt='d', cbar=False)\n",
        "    plt.title('Confusion Matrix')\n",
        "    plt.xlabel('Predicted')\n",
        "    plt.ylabel('True')\n",
        "    plt.show()\n",
        "\n",
        "# Generate the plots\n",
        "plot_confusion_matrix(confusion_matrix)\n",
        "\n",
        "print('Accuracy:', accuracy)\n",
        "print('Confusion Matrix:')\n",
        "print(confusion_matrix)\n",
        "print('Classification Report:')\n",
        "print(classification_report)"
      ],
      "metadata": {
        "colab": {
          "base_uri": "https://localhost:8080/",
          "height": 807
        },
        "id": "2l8Jpxuc5eKn",
        "outputId": "c0acf746-4beb-4b4a-cd18-08914cdbe0a5"
      },
      "execution_count": null,
      "outputs": [
        {
          "output_type": "display_data",
          "data": {
            "text/plain": [
              "<Figure size 800x600 with 1 Axes>"
            ],
            "image/png": "[encoded data removed]"
          },
          "metadata": {}
        },
        {
          "output_type": "stream",
          "name": "stdout",
          "text": [
            "Accuracy: 0.7715\n",
            "Confusion Matrix:\n",
            "[[898 212]\n",
            " [245 645]]\n",
            "Classification Report:\n",
            "              precision    recall  f1-score   support\n",
            "\n",
            "           0       0.79      0.81      0.80      1110\n",
            "           1       0.75      0.72      0.74       890\n",
            "\n",
            "    accuracy                           0.77      2000\n",
            "   macro avg       0.77      0.77      0.77      2000\n",
            "weighted avg       0.77      0.77      0.77      2000\n",
            "\n"
          ]
        }
      ]
    }
  ]
}